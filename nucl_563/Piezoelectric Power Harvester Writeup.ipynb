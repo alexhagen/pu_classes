{
 "cells": [
  {
   "cell_type": "code",
   "execution_count": 103,
   "metadata": {
    "collapsed": true,
    "deletable": true,
    "editable": true
   },
   "outputs": [],
   "source": [
    "from pyg.twod import pyg2d, svg_show\n",
    "from pym import func as pym\n",
    "from pyg.colors import pu as puc\n",
    "from matplotlib.ticker import FormatStrFormatter\n",
    "import numpy as np\n",
    "import re\n",
    "pyg2d.change_context('tufte')"
   ]
  },
  {
   "cell_type": "markdown",
   "metadata": {
    "deletable": true,
    "editable": true,
    "slideshow": {
     "slide_type": "slide"
    }
   },
   "source": [
    "# The Design\n",
    "\n",
    "Any acoustic system is a resonant system.  When coupling the acoustic media of power transfer (air or water) with the piezoelectric transducer and a circuit, the system becomes triply resonant.  The matching of the three resonances (acoustically, piezoelectrically, and electrically) becomes the prime factor for operation of a power harvester.  The process of matching these resonances was carried out iteratively, with the iteration steps being:\n",
    "\n",
    "1. Choice of PZT material and shape\n",
    "2. Choice of frequency range for design\n",
    "    1. Calculation of PZT size from frequency range\n",
    "    2. Verification of PZT resonances using COMSOL\n",
    "    3. Verification of PZT resonances using SPICE\n",
    "    4. Design of resonant circuit for **real** resonances from modeling software\n",
    "        1. Design of $LC$ circuit to match frequency of resonance\n",
    "        2. Design of $RC$ circuit to match frequency of resonance\n",
    "        3. Comparison and choice between $LC$ and $RC$\n",
    "    5. Simulation of power output in SPICE\n",
    "\n",
    "## PZT Choice\n",
    "\n",
    "- Following Botteron, and Illich, using PZT-5A because of its common availability\n",
    "- This is often called Navy PZT II\n",
    "- Disk shape chosen"
   ]
  },
  {
   "cell_type": "markdown",
   "metadata": {
    "deletable": true,
    "editable": true
   },
   "source": [
    "## PZT Size Calculation\n",
    "\n",
    "- Frequency of resonance chosen at $500\\mathrm{kHz}$ for availability of amplifiers"
   ]
  },
  {
   "cell_type": "code",
   "execution_count": 124,
   "metadata": {
    "collapsed": false,
    "deletable": true,
    "editable": true
   },
   "outputs": [
    {
     "data": {
      "text/html": [
       "\n",
       "            <div class='figure' style='align: center; margin-left: auto; margin-right: auto;'>\n",
       "                <img style='margin: auto; max-width:800px; width:400.000000px; height: auto;' src='pzt_diagram.svg?1863084611' />\n",
       "                <div style='margin: auto; text-align: center;' class='figurecaption'><b>Figure 16:</b> Coordinate system for disk pzt</div>\n",
       "            </div>\n",
       "        "
      ],
      "text/plain": [
       "<IPython.core.display.HTML object>"
      ]
     },
     "metadata": {},
     "output_type": "display_data"
    }
   ],
   "source": [
    "%autoreload 2\n",
    "svg_show('pzt_diagram.svg', caption='Coordinate system for disk pzt', width='1')"
   ]
  },
  {
   "cell_type": "markdown",
   "metadata": {
    "deletable": true,
    "editable": true,
    "slideshow": {
     "slide_type": "subslide"
    }
   },
   "source": [
    "- Planar Mode ($d>5t$)\n",
    "$$f_{res}=\\frac{N_r}{d} \\therefore d=\\frac{N_r}{f_{res}}$$\n",
    "$$d=2.9\\mathrm{mm}$$\n",
    "$$t<0.58\\mathrm{mm}$$"
   ]
  },
  {
   "cell_type": "markdown",
   "metadata": {
    "deletable": true,
    "editable": true
   },
   "source": [
    "## Resonant Circuit Design"
   ]
  },
  {
   "cell_type": "code",
   "execution_count": 119,
   "metadata": {
    "collapsed": false,
    "deletable": true,
    "editable": true
   },
   "outputs": [
    {
     "data": {
      "text/html": [
       "\n",
       "            <div class='figure' style='align: center; margin-left: auto; margin-right: auto;'>\n",
       "                <img style='margin: auto; max-width:800px; width:400.000000px; height: auto;' src='rlc.svg?843462236' />\n",
       "                <div style='margin: auto; text-align: center;' class='figurecaption'><b>Figure 13:</b> Diagram of series RLC circuit</div>\n",
       "            </div>\n",
       "        "
      ],
      "text/plain": [
       "<IPython.core.display.HTML object>"
      ]
     },
     "metadata": {},
     "output_type": "display_data"
    }
   ],
   "source": [
    "svg_show('rlc.svg', caption='Diagram of series RLC circuit', width='1')"
   ]
  },
  {
   "cell_type": "markdown",
   "metadata": {
    "deletable": true,
    "editable": true,
    "slideshow": {
     "slide_type": "subslide"
    }
   },
   "source": [
    "$$f_{res} = \\frac{1}{2\\pi \\sqrt{LC}}$$"
   ]
  },
  {
   "cell_type": "markdown",
   "metadata": {
    "deletable": true,
    "editable": true,
    "slideshow": {
     "slide_type": "subslide"
    }
   },
   "source": [
    "## Resonant Circuit Choice\n",
    "\n",
    "- The pzt has an internal capacitance of\n",
    "\n",
    "$$C=\\frac{\\pi}{4}k_{33}\\varepsilon_{0}\\frac{d^{2}}{t}=0.1\\mathrm{nF}$$\n",
    "\n",
    "- Ballast the pzt with a larger capacitor to decrease the size required in the inductor (space saving)\n",
    "- Ballast capacitor of $10\\mathrm{\\mu F}$, gives inductor size of $10\\mathrm{nH}$"
   ]
  },
  {
   "cell_type": "markdown",
   "metadata": {
    "deletable": true,
    "editable": true,
    "slideshow": {
     "slide_type": "subslide"
    }
   },
   "source": [
    "## Regulator Choice\n",
    "\n",
    "- Tried two ultra-low power boost converters - (TI's BQ25504 as per Botteron, LT's LTC3108), low success, details to follow\n",
    "- Chose a voltage regulator (need to step-**down** the voltage from PZT)\n",
    "- High speed required to match $500\\mathrm{kHz}$\n",
    "- Output of $3.6\\mathrm{V}$ chosen to match a single cell LiPo battery\n",
    "- Load on back end of $100\\mathrm{k\\Omega}$ matches common microprocessors"
   ]
  },
  {
   "cell_type": "code",
   "execution_count": 118,
   "metadata": {
    "collapsed": false,
    "deletable": true,
    "editable": true,
    "slideshow": {
     "slide_type": "subslide"
    }
   },
   "outputs": [
    {
     "data": {
      "text/html": [
       "\n",
       "            <div class='figure' style='align: center; margin-left: auto; margin-right: auto;'>\n",
       "                <img style='margin: auto; max-width:800px; width:400.000000px; height: auto;' src='receiver_design.svg?568582527' />\n",
       "                <div style='margin: auto; text-align: center;' class='figurecaption'><b>Figure 12:</b> System design before iteration</div>\n",
       "            </div>\n",
       "        "
      ],
      "text/plain": [
       "<IPython.core.display.HTML object>"
      ]
     },
     "metadata": {},
     "output_type": "display_data"
    }
   ],
   "source": [
    "svg_show('receiver_design.svg', caption='System design before iteration', width='1')"
   ]
  },
  {
   "cell_type": "markdown",
   "metadata": {
    "deletable": true,
    "editable": true,
    "slideshow": {
     "slide_type": "slide"
    }
   },
   "source": [
    "# The Simulation\n",
    "\n",
    "- Complex components to design\n",
    "- Acoustic transport to PZT face\n",
    "- Constitutive equation solution inside PZT Material (including elastic stress/strain)\n",
    "- Electrical solution in frequency space (Kirchoff's Laws, complicated by the IC)\n",
    "- Tools possible - COMSOL (FEM solver), SPICE (circuit solver)"
   ]
  },
  {
   "cell_type": "markdown",
   "metadata": {
    "deletable": true,
    "editable": true
   },
   "source": [
    "## COMSOL Multiphysics Simulation"
   ]
  },
  {
   "cell_type": "code",
   "execution_count": 121,
   "metadata": {
    "collapsed": false,
    "deletable": true,
    "editable": true,
    "slideshow": {
     "slide_type": "subslide"
    }
   },
   "outputs": [
    {
     "data": {
      "text/html": [
       "\n",
       "            <div class='figure' style='align: center; margin-left: auto; margin-right: auto;'>\n",
       "                <img style='margin: auto; max-width:800px; width:400.000000px; height: auto;' src='pzt_comsol_mesh.svg?620489391' />\n",
       "                <div style='margin: auto; text-align: center;' class='figurecaption'><b>Figure 15:</b> Mesh and boundary setup for finite element simulation of PZT-5A disk</div>\n",
       "            </div>\n",
       "        "
      ],
      "text/plain": [
       "<IPython.core.display.HTML object>"
      ]
     },
     "metadata": {},
     "output_type": "display_data"
    }
   ],
   "source": [
    "svg_show('pzt_comsol_mesh.svg',\n",
    "         caption='Mesh and boundary setup for finite element simulation of PZT-5A disk',\n",
    "         width='1')"
   ]
  },
  {
   "cell_type": "markdown",
   "metadata": {
    "deletable": true,
    "editable": true,
    "slideshow": {
     "slide_type": "subslide"
    }
   },
   "source": [
    "## COMSOL Boundary condition\n",
    "\n",
    "- Particle Velocity\n",
    "\n",
    "$$v=1.0\\times 10^{-6}\\mathrm{\\frac{m}{s}} \\equiv 20\\mathrm{dB}$$\n",
    "\n",
    "- Conversion to acceleration\n",
    "\n",
    "$$a = \\frac{d}{dt}v=\\frac{d}{dt} \\left[A \\sin \\left(2 \\pi f t\\right)\\right]$$\n",
    "$$a = 2 \\pi f A$$"
   ]
  },
  {
   "cell_type": "markdown",
   "metadata": {
    "deletable": true,
    "editable": true,
    "slideshow": {
     "slide_type": "subslide"
    }
   },
   "source": [
    "## COMSOL Voltage Results"
   ]
  },
  {
   "cell_type": "code",
   "execution_count": 19,
   "metadata": {
    "collapsed": false,
    "deletable": true,
    "editable": true,
    "slideshow": {
     "slide_type": "-"
    }
   },
   "outputs": [
    {
     "data": {
      "text/html": [
       "\n",
       "                <div class='figure' style='align: center; margin-left: auto; margin-right: auto;'>\n",
       "                    <img style='margin: auto; max-width:800px; width:1250.000000px; height: auto;' src='intvolt.svg?1468419082' />\n",
       "                    <div style='margin: auto; text-align: center;' class='figurecaption'><b>Figure 9:</b> Across capacitor voltage versus frequency</div>\n",
       "                </div>\n",
       "            "
      ],
      "text/plain": [
       "<IPython.core.display.HTML object>"
      ]
     },
     "metadata": {},
     "output_type": "display_data"
    }
   ],
   "source": [
    "# plot voltage result\n",
    "\n",
    "frequencies = []\n",
    "vpwrout = []\n",
    "vpztin = []\n",
    "ipwrout = []\n",
    "ipztin = []\n",
    "with open('power_harvester_with_lt1585_freq_space.txt') as f:\n",
    "    f.next()\n",
    "    for line in f:\n",
    "        string = re.sub(r'[^\\w\\s\\n0-9a-zA-Z+-.]+', '*', line)\n",
    "        string = string.replace('(', '').replace(')', '').replace('dB', '').replace('*', '').replace(',', ' ')\n",
    "        arr = string.split()\n",
    "        frequencies.extend([float(arr[0])])\n",
    "        vpwrout.extend([float(arr[1])])\n",
    "        vpztin.extend([float(arr[3])])\n",
    "        ipwrout.extend([float(arr[5])])\n",
    "        ipztin.extend([float(arr[7])])\n",
    "\n",
    "        \n",
    "vpwrout = np.array(vpwrout)\n",
    "vpztin = np.array(vpztin)\n",
    "ipwrout = np.array(ipwrout)\n",
    "ipztin = np.array(ipztin)\n",
    "vpwroutc = pym.curve(frequencies, np.power(10.0, (vpwrout/20.0)) * 1.0e-6, name='spice vpwrout')\n",
    "ipwroutc = pym.curve(frequencies, np.power(10.0, (ipwrout/20.0)) * 1.0e-6, name='spice ipwrout')\n",
    "vpztinc = pym.curve(frequencies, np.power(10.0, (vpztin/20.0)) * 1.0e-6,\n",
    "                    name='SPICE $V$')\n",
    "ipztinc = pym.curve(frequencies, np.power(10.0, (ipztin/20.0)) * 1.0e-6, name='SPICE $I$')\n",
    "\n",
    "(freq, vel, intvolt, intcurr, maxvolt) = np.loadtxt('pzt_power_harvester.csv', unpack=True, skiprows=5, delimiter=',')\n",
    "\n",
    "freq = freq\n",
    "intvolt = np.abs(intvolt)\n",
    "\n",
    "intvoltc = pym.curve(freq, intvolt / 0.0029, name=r'COMSOL $\\nicefrac{\\int V dx}{d}$')\n",
    "plot = intvoltc.plot(linestyle='-', linecolor=puc.pu_colors['newgold'])\n",
    "plot = vpztinc.plot(linestyle='--', linecolor=puc.pu_colors['gray'], addto=plot, yy=True)\n",
    "plot.markers_off()\n",
    "plot.lines_on()\n",
    "plot.semi_log_x()\n",
    "plot.semi_log_y()\n",
    "plot.semi_log_y(axes=plot.ax2)\n",
    "plot.legend(loc=2)\n",
    "plot.legend(loc=1, axes=plot.ax2)\n",
    "plot.xlabel('Frequency ($f$) [$\\mathrm{Hz}]$')\n",
    "plot.ylabel(r'Voltage ($\\frac{\\int{V dx}}{d}$) [$\\mathrm{V}$]')\n",
    "plot.ylabel('Voltage ($V$) [$\\unit{V}$]', axes=plot.ax2)\n",
    "plot.export('intvolt', sizes=['2'], ratio='silver')\n",
    "plot.show(caption='Across capacitor voltage versus frequency')"
   ]
  },
  {
   "cell_type": "markdown",
   "metadata": {
    "deletable": true,
    "editable": true,
    "slideshow": {
     "slide_type": "subslide"
    }
   },
   "source": [
    "## COMSOL Current"
   ]
  },
  {
   "cell_type": "code",
   "execution_count": 20,
   "metadata": {
    "collapsed": false,
    "deletable": true,
    "editable": true,
    "slideshow": {
     "slide_type": "-"
    }
   },
   "outputs": [
    {
     "data": {
      "text/html": [
       "\n",
       "                <div class='figure' style='align: center; margin-left: auto; margin-right: auto;'>\n",
       "                    <img style='margin: auto; max-width:800px; width:1250.000000px; height: auto;' src='intcurr.svg?40426607' />\n",
       "                    <div style='margin: auto; text-align: center;' class='figurecaption'><b>Figure 10:</b> Current density generated in piezoelectric harvester versus frequency</div>\n",
       "                </div>\n",
       "            "
      ],
      "text/plain": [
       "<IPython.core.display.HTML object>"
      ]
     },
     "metadata": {},
     "output_type": "display_data"
    }
   ],
   "source": [
    "# plot current result\n",
    "intcurrc = pym.curve(freq, intcurr, name=r'COMSOL $\\nicefrac{\\int{\\frac{I}{V} dx}}{d}$')\n",
    "plot = intcurrc.plot(linestyle='-', linecolor=puc.pu_colors['teal'])\n",
    "plot = ipztinc.plot(linestyle='--', linecolor=puc.pu_colors['blue'], addto=plot, yy=True)\n",
    "plot.markers_off()\n",
    "plot.lines_on()\n",
    "plot.semi_log_x()\n",
    "plot.semi_log_y()\n",
    "plot.semi_log_y(axes=plot.ax2)\n",
    "plot.legend(loc=2)\n",
    "plot.legend(loc=1, axes=plot.ax2)\n",
    "plot.xlabel(r'Frequency ($f$) [$\\mathrm{Hz}]$')\n",
    "plot.ylabel(r'Current Density ($\\nicefrac{\\int{\\frac{I}{V} dx}}{d}$) [$\\unit{\\nicefrac{A}{m^{3}}}$]')\n",
    "plot.ylabel(r'Current ($I$) [$\\unit{A}$]', axes=plot.ax2)\n",
    "plot.export('intcurr', sizes=['2'], ratio='silver')\n",
    "plot.show(caption='Current density generated in piezoelectric harvester versus frequency')"
   ]
  },
  {
   "cell_type": "code",
   "execution_count": 21,
   "metadata": {
    "collapsed": false,
    "deletable": true,
    "editable": true,
    "slideshow": {
     "slide_type": "skip"
    }
   },
   "outputs": [
    {
     "data": {
      "text/html": [
       "\n",
       "                <div class='figure' style='align: center; margin-left: auto; margin-right: auto;'>\n",
       "                    <img style='margin: auto; max-width:800px; width:1250.000000px; height: auto;' src='intpow.svg?282883307' />\n",
       "                    <div style='margin: auto; text-align: center;' class='figurecaption'><b>Figure 11:</b> Power generated in PZT with frequency</div>\n",
       "                </div>\n",
       "            "
      ],
      "text/plain": [
       "<IPython.core.display.HTML object>"
      ]
     },
     "metadata": {},
     "output_type": "display_data"
    }
   ],
   "source": [
    "intpow = intcurrc * intvoltc\n",
    "pztpow = ipztinc * vpztinc\n",
    "plot = intpow.plot(linestyle='-', linecolor=puc.pu_colors['purple'])\n",
    "plot = pztpow.plot(linestyle='--', linecolor=puc.pu_colors['red'], addto=plot, yy=True)\n",
    "plot.markers_off()\n",
    "plot.lines_on()\n",
    "plot.semi_log_x()\n",
    "plot.semi_log_y()\n",
    "plot.semi_log_y(axes=plot.ax2)\n",
    "plot.add_data_pointer(pztpow.find_max(), curve=pztpow,\n",
    "                      string=r'$\\underset{f}{\\arg\\max} \\left|' +\n",
    "                             r' P_{spice}\\left( f \\right) \\right| = %.2e \\unit{Hz}$' % pztpow.find_max(),\n",
    "                      place=(1.0e4, 1.0e-20), axes=plot.ax2)\n",
    "plot.legend(loc=2)\n",
    "plot.legend(loc=1, axes=plot.ax2)\n",
    "plot.xlabel(r'Frequency ($f$) [$\\unit{kHz}]$')\n",
    "plot.ylabel(r'Power ($\\int P dx$) [$\\unit{W}$]')\n",
    "plot.ylabel(r'Power ($P$) [$\\unit{W}$]', axes=plot.ax2)\n",
    "plot.export('intpow', sizes=['2'], ratio='silver')\n",
    "plot.show(caption='Power generated in PZT with frequency')"
   ]
  },
  {
   "cell_type": "markdown",
   "metadata": {
    "deletable": true,
    "editable": true,
    "slideshow": {
     "slide_type": "subslide"
    }
   },
   "source": [
    "## LTSpice Model\n",
    "\n",
    "- Illich created\n",
    "    - a PZT spice component\n",
    "    - a finite acoustic media component\n",
    "    - an infinite acoustic media component\n",
    "- Illich assumed a current $\\Leftrightarrow$ particle velocity analogy from Schwarz\n",
    "- Allows for easy modeling of circuit using pzt component\n"
   ]
  },
  {
   "cell_type": "markdown",
   "metadata": {
    "deletable": true,
    "editable": true,
    "slideshow": {
     "slide_type": "subslide"
    }
   },
   "source": [
    "## Failed LTSpice Models"
   ]
  },
  {
   "cell_type": "code",
   "execution_count": 24,
   "metadata": {
    "collapsed": false,
    "deletable": true,
    "editable": true
   },
   "outputs": [
    {
     "data": {
      "text/html": [
       "\n",
       "            <div class='figure' style='align: center; margin-left: auto; margin-right: auto;'>\n",
       "                <img style='margin: auto; max-width:800px; width:600.000000px; height: auto;' src='power_harvester_with_transformer.svg?1686694016' />\n",
       "                <div style='margin: auto; text-align: center;' class='figurecaption'><b>Figure 2:</b> Circuit diagram for circuit iteration using transformer and LT3108</div>\n",
       "            </div>\n",
       "        "
      ],
      "text/plain": [
       "<IPython.core.display.HTML object>"
      ]
     },
     "metadata": {},
     "output_type": "display_data"
    }
   ],
   "source": [
    "svg_show('power_harvester_with_transformer.svg',\n",
    "         caption='Circuit diagram for circuit iteration using transformer and LT3108', width='2')"
   ]
  },
  {
   "cell_type": "markdown",
   "metadata": {
    "deletable": true,
    "editable": true,
    "slideshow": {
     "slide_type": "-"
    }
   },
   "source": [
    "- Maximum voltage of $\\mathrm{\\mu V}$\n",
    "- Maximum current of $\\mathrm{n A}$"
   ]
  },
  {
   "cell_type": "markdown",
   "metadata": {
    "deletable": true,
    "editable": true
   },
   "source": [
    "## LTSpice Model"
   ]
  },
  {
   "cell_type": "code",
   "execution_count": 51,
   "metadata": {
    "collapsed": false,
    "deletable": true,
    "editable": true,
    "slideshow": {
     "slide_type": "subslide"
    }
   },
   "outputs": [
    {
     "data": {
      "text/html": [
       "\n",
       "            <div class='figure' style='align: center; margin-left: auto; margin-right: auto;'>\n",
       "                <img style='margin: auto; max-width:800px; width:600.000000px; height: auto;' src='power_harvester_with_lt1585_lrc.svg?550245762' />\n",
       "                <div style='margin: auto; text-align: center;' class='figurecaption'><b>Figure 9:</b> Circuit diagram for circuit iteration using LRC oscilating circuit and LT1587-3.3</div>\n",
       "            </div>\n",
       "        "
      ],
      "text/plain": [
       "<IPython.core.display.HTML object>"
      ]
     },
     "metadata": {},
     "output_type": "display_data"
    }
   ],
   "source": [
    "svg_show('power_harvester_with_lt1585_lrc.svg',\n",
    "         caption='Circuit diagram for circuit iteration using LRC oscilating circuit and LT1587-3.3', width='2')"
   ]
  },
  {
   "cell_type": "markdown",
   "metadata": {
    "deletable": true,
    "editable": true,
    "slideshow": {
     "slide_type": "subslide"
    }
   },
   "source": [
    "## LTSpice Model Results"
   ]
  },
  {
   "cell_type": "code",
   "execution_count": 28,
   "metadata": {
    "collapsed": false,
    "deletable": true,
    "editable": true
   },
   "outputs": [],
   "source": [
    "# Plot current and voltage from LTSpice freq sweep\n",
    "fs = []\n",
    "data = []\n",
    "prevline = '0.0'\n",
    "ts = []\n",
    "vs = []\n",
    "iis = []\n",
    "all_fs = []\n",
    "all_ts = []\n",
    "all_vs = []\n",
    "vcurves = {}\n",
    "with open('power_harvester_with_lt1585_freq_sweep.txt') as f:\n",
    "    f.next()\n",
    "    for line in f:\n",
    "        try:\n",
    "            arr = line.split()\n",
    "            t = float(arr[0])\n",
    "            v = float(arr[1])\n",
    "            i = float(arr[2])\n",
    "            all_fs.extend([float(prevline)])\n",
    "            all_ts.extend([t])\n",
    "            all_vs.extend([v])\n",
    "            ts.extend([t])\n",
    "            vs.extend([v])\n",
    "            iis.extend([i])\n",
    "        except (ValueError, IndexError):\n",
    "            if 'Freq=' in line:\n",
    "                string = re.sub('\\(Run: [0-9]/[0-9]\\)', '', line)\n",
    "                string = string.replace('Step Information: Freq=', '').replace('K', 'e3').replace('M', 'e6')\n",
    "                fs.extend([float(prevline)])\n",
    "                data.extend([[np.array(ts), np.array(vs), np.array(iis)]])\n",
    "                vcurves[float(prevline)] = pym.curve(ts, vs, name=r'$f=%.2e \\mathrm{Hz}$' % float(prevline))\n",
    "                prevline=string\n",
    "                ts = []\n",
    "                vs = []\n",
    "                iis = []\n",
    "all_fs = np.array(all_fs)\n",
    "all_ts = np.array(all_ts)\n",
    "all_vs = np.array(all_vs)\n",
    "min_t = np.min(all_ts)\n",
    "min_f = np.min(all_fs)\n",
    "min_v = np.min(all_vs)\n",
    "max_t = np.max(all_ts)\n",
    "max_f = np.max(all_fs)\n",
    "max_v = np.max(all_vs)\n",
    "del vcurves[0]\n",
    "\n",
    "X, Y = np.meshgrid(sorted(vcurves.keys()), np.linspace(min_t, max_t, 100))\n",
    "Z = np.zeros_like(X)\n",
    "for i, key in enumerate(sorted(vcurves.keys())):\n",
    "    cur = vcurves[key]\n",
    "    for _x, j in zip(np.linspace(min_t, max_t, 100), range(100)):\n",
    "        Z[j, i] = cur.at(_x)"
   ]
  },
  {
   "cell_type": "code",
   "execution_count": 37,
   "metadata": {
    "collapsed": false,
    "deletable": true,
    "editable": true
   },
   "outputs": [
    {
     "data": {
      "text/html": [
       "\n",
       "                <div class='figure' style='align: center; margin-left: auto; margin-right: auto;'>\n",
       "                    <img style='margin: auto; max-width:800px; width:1250.000000px; height: auto;' src='volt3d.svg?421513313' />\n",
       "                    <div style='margin: auto; text-align: center;' class='figurecaption'><b>Figure 5:</b> Voltage at power out terminal versus time versus frequency</div>\n",
       "                </div>\n",
       "            "
      ],
      "text/plain": [
       "<IPython.core.display.HTML object>"
      ]
     },
     "metadata": {},
     "output_type": "display_data"
    }
   ],
   "source": [
    "from pyg.threed import pyg3d\n",
    "# recoil energy deposited in fluid vs. pneg vs. E\n",
    "plot = pyg3d()\n",
    "plot.surf(np.array(sorted(vcurves.keys())) / 1.0e3, 1.0e6 * np.linspace(min_t, max_t, 100), Z, cmap=puc.flame_cmap,\n",
    "          alpha=0.8, addto=plot)\n",
    "plot.zlabel(r'Voltage ($V$) [$\\unit{V}$]')\n",
    "plot.ylabel('Time ($t$) [$\\mathrm{\\mu s}]$')\n",
    "plot.xlabel('Frequency ($f$) [$\\mathrm{kHz}$]')\n",
    "plot.export('volt3d', ratio='silver')\n",
    "plot.show('Voltage at power out terminal versus time versus frequency')"
   ]
  },
  {
   "cell_type": "code",
   "execution_count": 38,
   "metadata": {
    "collapsed": false,
    "deletable": true,
    "editable": true
   },
   "outputs": [],
   "source": [
    "# Plot current and voltage from LTSpice freq sweep\n",
    "fs = []\n",
    "data = []\n",
    "prevline = '0.0'\n",
    "ts = []\n",
    "vs = []\n",
    "iis = []\n",
    "all_fs = []\n",
    "all_ts = []\n",
    "all_vs = []\n",
    "vcurves = {}\n",
    "with open('power_harvester_with_lt1585_freq_sweep.txt') as f:\n",
    "    f.next()\n",
    "    for line in f:\n",
    "        try:\n",
    "            arr = line.split()\n",
    "            t = float(arr[0])\n",
    "            v = float(arr[1])\n",
    "            i = float(arr[2])\n",
    "            all_fs.extend([float(prevline)])\n",
    "            all_ts.extend([t])\n",
    "            all_vs.extend([i])\n",
    "            ts.extend([t])\n",
    "            vs.extend([v])\n",
    "            iis.extend([i])\n",
    "        except (ValueError, IndexError):\n",
    "            if 'Freq=' in line:\n",
    "                string = re.sub('\\(Run: [0-9]/[0-9]\\)', '', line)\n",
    "                string = string.replace('Step Information: Freq=', '').replace('K', 'e3').replace('M', 'e6')\n",
    "                fs.extend([float(prevline)])\n",
    "                data.extend([[np.array(ts), np.array(vs), np.array(iis)]])\n",
    "                vcurves[float(prevline)] = pym.curve(ts, iis, name=r'$f=%.2e \\mathrm{Hz}$' % float(prevline))\n",
    "                prevline=string\n",
    "                ts = []\n",
    "                vs = []\n",
    "                iis = []\n",
    "all_fs = np.array(all_fs)\n",
    "all_ts = np.array(all_ts)\n",
    "all_vs = np.array(all_vs)\n",
    "min_t = np.min(all_ts)\n",
    "min_f = np.min(all_fs)\n",
    "min_v = np.min(all_vs)\n",
    "max_t = np.max(all_ts)\n",
    "max_f = np.max(all_fs)\n",
    "max_v = np.max(all_vs)\n",
    "del vcurves[0]\n",
    "\n",
    "X, Y = np.meshgrid(sorted(vcurves.keys()), np.linspace(min_t, max_t, 100))\n",
    "Z = np.zeros_like(X)\n",
    "for i, key in enumerate(sorted(vcurves.keys())):\n",
    "    cur = vcurves[key]\n",
    "    for _x, j in zip(np.linspace(min_t, max_t, 100), range(100)):\n",
    "        Z[j, i] = cur.at(_x)"
   ]
  },
  {
   "cell_type": "code",
   "execution_count": 39,
   "metadata": {
    "collapsed": false,
    "deletable": true,
    "editable": true
   },
   "outputs": [
    {
     "data": {
      "text/html": [
       "\n",
       "                <div class='figure' style='align: center; margin-left: auto; margin-right: auto;'>\n",
       "                    <img style='margin: auto; max-width:800px; width:1250.000000px; height: auto;' src='curr3d.svg?1086949335' />\n",
       "                    <div style='margin: auto; text-align: center;' class='figurecaption'><b>Figure 6:</b> Current at power out terminal versus time versus frequency</div>\n",
       "                </div>\n",
       "            "
      ],
      "text/plain": [
       "<IPython.core.display.HTML object>"
      ]
     },
     "metadata": {},
     "output_type": "display_data"
    }
   ],
   "source": [
    "# recoil energy deposited in fluid vs. pneg vs. E\n",
    "plot = pyg3d()\n",
    "plot.surf(np.array(sorted(vcurves.keys())) / 1.0e3, 1.0e6 * np.linspace(min_t, max_t, 100), 1.0e3 * Z,\n",
    "          cmap=puc.flow_cmap,\n",
    "          alpha=0.8, addto=plot)\n",
    "plot.zlabel(r'Current ($I$) [$\\unit{mA}$]')\n",
    "plot.ylabel('Time ($t$) [$\\mathrm{\\mu s}]$')\n",
    "plot.xlabel('Frequency ($f$) [$\\mathrm{kHz}$]')\n",
    "plot.export('curr3d', ratio='silver')\n",
    "plot.show('Current at power out terminal versus time versus frequency')"
   ]
  },
  {
   "cell_type": "code",
   "execution_count": 46,
   "metadata": {
    "collapsed": false,
    "deletable": true,
    "editable": true
   },
   "outputs": [
    {
     "data": {
      "text/html": [
       "\n",
       "                <div class='figure' style='align: center; margin-left: auto; margin-right: auto;'>\n",
       "                    <img style='margin: auto; max-width:800px; width:1250.000000px; height: auto;' src='volt.svg?963560067' />\n",
       "                    <div style='margin: auto; text-align: center;' class='figurecaption'><b>Figure 5:</b> Voltage at power out terminal versus time</div>\n",
       "                </div>\n",
       "            "
      ],
      "text/plain": [
       "<IPython.core.display.HTML object>"
      ]
     },
     "metadata": {},
     "output_type": "display_data"
    }
   ],
   "source": [
    "# Plot current and voltage from LTSpice sndamp sweep\n",
    "(t, vpwrout, vpztin, ipwrout, ipztin) = np.loadtxt('power_harvester_with_lt1585.txt', unpack=True, skiprows=1)\n",
    "(trc, vpwroutrc, ipwroutrc) = \\\n",
    "    np.loadtxt('power_harvester_with_lt1585_rc.txt', unpack=True, skiprows=1)\n",
    "\n",
    "vpwroutc = pym.curve(1.0E6 * t, vpwrout, name='$V_{lc}$')\n",
    "vpwroutrcc = pym.curve(1.0E6 * trc, vpwroutrc, name='$V_{rc}$')\n",
    "plot = vpwroutc.plot(linestyle='-', linecolor=puc.pu_colors['newgold'])\n",
    "plot = vpwroutrcc.plot(linestyle='--', linecolor=puc.pu_colors['oldgold'], addto=plot)\n",
    "plot.markers_off()\n",
    "plot.lines_on()\n",
    "plot.legend()\n",
    "plot.xlabel('Time ($t$) [$\\mathrm{\\mu s}]$')\n",
    "plot.ylabel('Voltage ($V$) [$\\mathrm{V}$]')\n",
    "plot.xlim(0, 4)\n",
    "plot.ylim(0, 4.5)\n",
    "plot.export('volt', ratio='silver')\n",
    "plot.show('Voltage at power out terminal versus time')"
   ]
  },
  {
   "cell_type": "markdown",
   "metadata": {
    "deletable": true,
    "editable": true,
    "slideshow": {
     "slide_type": "subslide"
    }
   },
   "source": [
    "## LTSpice Model Results"
   ]
  },
  {
   "cell_type": "code",
   "execution_count": 47,
   "metadata": {
    "collapsed": false,
    "deletable": true,
    "editable": true,
    "slideshow": {
     "slide_type": "-"
    }
   },
   "outputs": [
    {
     "data": {
      "text/html": [
       "\n",
       "                <div class='figure' style='align: center; margin-left: auto; margin-right: auto;'>\n",
       "                    <img style='margin: auto; max-width:800px; width:1250.000000px; height: auto;' src='curr.svg?266848144' />\n",
       "                    <div style='margin: auto; text-align: center;' class='figurecaption'><b>Figure 6:</b> Current at power out terminal versus time</div>\n",
       "                </div>\n",
       "            "
      ],
      "text/plain": [
       "<IPython.core.display.HTML object>"
      ]
     },
     "metadata": {},
     "output_type": "display_data"
    }
   ],
   "source": [
    "ipwroutc = pym.curve(1.0E6 * t, 1.0E6 * ipwrout, name='$I_{lc}$')\n",
    "ipwroutrcc = pym.curve(1.0E6 * trc, 1.0E6 * ipwroutrc, name='$I_{rc}$')\n",
    "plot = ipwroutc.plot(linestyle='-', linecolor=puc.pu_colors['teal'])\n",
    "plot = ipwroutrcc.plot(linestyle='--', linecolor=puc.pu_colors['blue'], addto=plot)\n",
    "plot.markers_off()\n",
    "plot.lines_on()\n",
    "plot.legend()\n",
    "plot.xlabel('Time ($t$) [$\\mathrm{\\mu s}]$')\n",
    "plot.ylabel('Current ($I$) [$\\mathrm{\\mu A}$]')\n",
    "plot.xlim(0, 4)\n",
    "plot.ylim(0, 50)\n",
    "plot.export('curr', ratio='silver')\n",
    "plot.show('Current at power out terminal versus time')"
   ]
  },
  {
   "cell_type": "code",
   "execution_count": 50,
   "metadata": {
    "collapsed": false,
    "deletable": true,
    "editable": true,
    "slideshow": {
     "slide_type": "-"
    }
   },
   "outputs": [
    {
     "data": {
      "text/html": [
       "\n",
       "                <div class='figure' style='align: center; margin-left: auto; margin-right: auto;'>\n",
       "                    <img style='margin: auto; max-width:800px; width:1250.000000px; height: auto;' src='power.svg?1970292347' />\n",
       "                    <div style='margin: auto; text-align: center;' class='figurecaption'><b>Figure 8:</b> Power at power out terminal versus time</div>\n",
       "                </div>\n",
       "            "
      ],
      "text/plain": [
       "<IPython.core.display.HTML object>"
      ]
     },
     "metadata": {},
     "output_type": "display_data"
    }
   ],
   "source": [
    "ppwroutc = ipwroutc * vpwroutc\n",
    "ppwroutc.name = '$P_{lc}$'\n",
    "ppwroutrcc = ipwroutrcc * vpwroutrcc\n",
    "ppwroutrcc.name = '$P_{rc}$'\n",
    "plot = ppwroutc.plot(linestyle='-', linecolor=puc.pu_colors['purple'])\n",
    "plot = ppwroutrcc.plot(linestyle='--', linecolor=puc.pu_colors['red'], addto=plot)\n",
    "plot.markers_off()\n",
    "plot.lines_on()\n",
    "plot.legend()\n",
    "plot.xlabel('Time ($t$) [$\\mathrm{\\mu s}]$')\n",
    "plot.ylabel('Power ($P$) [$\\mathrm{\\mu W}$]')\n",
    "plot.xlim(0, 4)\n",
    "plot.ylim(0, 165)\n",
    "plot.export('power', ratio='silver')\n",
    "plot.show('Power at power out terminal versus time')"
   ]
  },
  {
   "cell_type": "markdown",
   "metadata": {
    "deletable": true,
    "editable": true,
    "slideshow": {
     "slide_type": "slide"
    }
   },
   "source": [
    "# The Realization\n",
    "\n",
    "- Drop in replacement for single cell LiPo battery ($>3.7\\mathrm{V}$)\n",
    "- After start up period of $150\\mathrm{\\mu s}$, reaches steady state current of $42\\mathrm{\\mu A}$\n",
    "- Provides power of $176.4\\mathrm{\\mu W}$\n",
    "- Size of $6.6\\mathrm{mm^{2}}$"
   ]
  },
  {
   "cell_type": "markdown",
   "metadata": {
    "deletable": true,
    "editable": true,
    "slideshow": {
     "slide_type": "slide"
    }
   },
   "source": [
    "# The Future\n",
    "\n",
    "- Optimization studies into LC circuit values\n",
    "- Better PZT material possibilities\n",
    "- More efficient step-down conversion\n",
    "- Higher current from higher frequencies ($5\\mathrm{MHz}$)\n",
    "- Design of PCB for size estimates"
   ]
  },
  {
   "cell_type": "code",
   "execution_count": 108,
   "metadata": {
    "collapsed": false,
    "deletable": true,
    "editable": true
   },
   "outputs": [],
   "source": [
    "# Plot current and voltage from LTSpice freq sweep\n",
    "fs = []\n",
    "data = []\n",
    "prevline = '0.0'\n",
    "ts = []\n",
    "vs = []\n",
    "iis = []\n",
    "all_fs = []\n",
    "all_ts = []\n",
    "all_vs = []\n",
    "vcurves = {}\n",
    "icurves = {}\n",
    "with open('power_harvester_with_lt1585_lrc_r.txt') as f:\n",
    "    f.next()\n",
    "    for line in f:\n",
    "        try:\n",
    "            arr = line.split()\n",
    "            t = float(arr[0])\n",
    "            v = float(arr[1])\n",
    "            i = float(arr[2])\n",
    "            all_fs.extend([float(prevline)])\n",
    "            all_ts.extend([t])\n",
    "            all_vs.extend([v])\n",
    "            ts.extend([t])\n",
    "            vs.extend([v])\n",
    "            iis.extend([i])\n",
    "        except (ValueError, IndexError):\n",
    "            if 'Rmatch=' in line:\n",
    "                string = line\n",
    "                string = re.sub('\\(Run: [0-9]+/[0-9]+\\)', '', string)\n",
    "                string = string.replace('Step Information: Rmatch=', '')\\\n",
    "                    .replace('K', 'e3').replace('M', 'e6').replace('m', 'e-3').replace('n', 'e-9')\\\n",
    "                    .replace('nan', 'np.nan')\n",
    "                string = re.sub('[^\\w\\s\\(\\)a-zA-Z0-9.+-:/]', 'e-6', string)\n",
    "                fs.extend([float(prevline)])\n",
    "                data.extend([[np.array(ts), np.array(vs), np.array(iis)]])\n",
    "                vcurves[float(prevline)] = pym.curve(ts, vs, name=r'$f=%.2e \\mathrm{Hz}$' % float(prevline))\n",
    "                icurves[float(prevline)] = pym.curve(ts, iis, name=r'$f=%.2e \\mathrm{Hz}$' % float(prevline))\n",
    "                prevline=string\n",
    "                ts = []\n",
    "                vs = []\n",
    "                iis = []\n",
    "all_fs = np.array(all_fs)\n",
    "all_ts = np.array(all_ts)\n",
    "all_vs = np.array(all_vs)\n",
    "min_t = np.min(all_ts)\n",
    "min_f = np.min(all_fs)\n",
    "min_v = np.min(all_vs)\n",
    "max_t = np.max(all_ts)\n",
    "max_f = np.max(all_fs)\n",
    "max_v = np.max(all_vs)\n",
    "del vcurves[0]\n",
    "del icurves[0]\n",
    "\n",
    "X, Y = np.meshgrid(sorted(vcurves.keys()), np.linspace(min_t, max_t, 100))\n",
    "Z = np.zeros_like(X)\n",
    "A = np.zeros_like(X)\n",
    "for i, key in enumerate(sorted(vcurves.keys())):\n",
    "    cur = vcurves[key]\n",
    "    icur = icurves[key]\n",
    "    for _x, j in zip(np.linspace(min_t, max_t, 100), range(100)):\n",
    "        Z[j, i] = cur.at(_x)\n",
    "        A[j, i] = icur.at(_x)"
   ]
  },
  {
   "cell_type": "code",
   "execution_count": 111,
   "metadata": {
    "collapsed": false,
    "deletable": true,
    "editable": true
   },
   "outputs": [
    {
     "data": {
      "text/html": [
       "\n",
       "                <div class='figure' style='align: center; margin-left: auto; margin-right: auto;'>\n",
       "                    <img style='margin: auto; max-width:800px; width:1250.000000px; height: auto;' src='volt3d_res.svg?393878405' />\n",
       "                    <div style='margin: auto; text-align: center;' class='figurecaption'><b>Figure 21:</b> Voltage at power out terminal versus time versus matching resistance</div>\n",
       "                </div>\n",
       "            "
      ],
      "text/plain": [
       "<IPython.core.display.HTML object>"
      ]
     },
     "metadata": {},
     "output_type": "display_data"
    }
   ],
   "source": [
    "# recoil energy deposited in fluid vs. pneg vs. E\n",
    "plot = pyg3d()\n",
    "plot.surf(np.log10(np.array(sorted(vcurves.keys()))), 1.0e6 * np.linspace(min_t, max_t, 100), Z, cmap=puc.flame_cmap,\n",
    "          alpha=0.8, addto=plot)\n",
    "plot.zlabel(r'Voltage ($V$) [$\\unit{V}$]')\n",
    "plot.ylabel('Time ($t$) [$\\mathrm{\\mu s}]$')\n",
    "plot.xlabel('Resistance ($R$) [$\\Omega$]')\n",
    "plot.ax.xaxis.set_major_formatter(FormatStrFormatter('$10^{%.0f}$'))\n",
    "plot.export('volt3d_res', ratio='silver')\n",
    "plot.show('Voltage at power out terminal versus time versus matching resistance')"
   ]
  },
  {
   "cell_type": "code",
   "execution_count": 112,
   "metadata": {
    "collapsed": false,
    "deletable": true,
    "editable": true
   },
   "outputs": [
    {
     "data": {
      "text/html": [
       "\n",
       "                <div class='figure' style='align: center; margin-left: auto; margin-right: auto;'>\n",
       "                    <img style='margin: auto; max-width:800px; width:1250.000000px; height: auto;' src='curr3d_res.svg?684658666' />\n",
       "                    <div style='margin: auto; text-align: center;' class='figurecaption'><b>Figure 22:</b> Current at power out terminal versus time versus matching resistance</div>\n",
       "                </div>\n",
       "            "
      ],
      "text/plain": [
       "<IPython.core.display.HTML object>"
      ]
     },
     "metadata": {},
     "output_type": "display_data"
    }
   ],
   "source": [
    "# recoil energy deposited in fluid vs. pneg vs. E\n",
    "plot = pyg3d()\n",
    "plot.surf(np.log10(np.array(sorted(vcurves.keys()))), 1.0e6 * np.linspace(min_t, max_t, 100), 1.0e6 * A, cmap=puc.flow_cmap,\n",
    "          alpha=0.8, addto=plot)\n",
    "plot.zlabel(r'Current ($I$) [$\\unit{\\mu A}$]')\n",
    "plot.ylabel('Time ($t$) [$\\mathrm{\\mu s}]$')\n",
    "plot.xlabel('Resistance ($R$) [$\\Omega$]')\n",
    "plot.ax.xaxis.set_major_formatter(FormatStrFormatter('$10^{%.0f}$'))\n",
    "plot.export('curr3d_res', ratio='silver')\n",
    "plot.show('Current at power out terminal versus time versus matching resistance')"
   ]
  },
  {
   "cell_type": "code",
   "execution_count": 113,
   "metadata": {
    "collapsed": false,
    "deletable": true,
    "editable": true
   },
   "outputs": [],
   "source": [
    "# Plot current and voltage from LTSpice freq sweep\n",
    "fs = []\n",
    "data = []\n",
    "prevline = '0.0'\n",
    "ts = []\n",
    "vs = []\n",
    "iis = []\n",
    "all_fs = []\n",
    "all_ts = []\n",
    "all_vs = []\n",
    "vcurves = {}\n",
    "icurves = {}\n",
    "with open('power_harvester_with_lt1585_lrc_lmatch.txt') as f:\n",
    "    f.next()\n",
    "    for line in f:\n",
    "        try:\n",
    "            arr = line.split()\n",
    "            t = float(arr[0])\n",
    "            v = float(arr[1])\n",
    "            i = float(arr[2])\n",
    "            all_fs.extend([float(prevline)])\n",
    "            all_ts.extend([t])\n",
    "            all_vs.extend([v])\n",
    "            ts.extend([t])\n",
    "            vs.extend([v])\n",
    "            iis.extend([i])\n",
    "        except (ValueError, IndexError):\n",
    "            if 'Lmatch=' in line:\n",
    "                string = re.sub('\\(Run: [0-9]+/[0-9]+\\)', '', line)\n",
    "                string = string.replace('Step Information: Lmatch=', '')\\\n",
    "                    .replace('K', 'e3').replace('M', 'e6').replace('m', 'e-3').replace('n', 'e-9')\\\n",
    "                    .replace('nan', 'np.nan')\n",
    "                string = re.sub('[^\\w\\s\\(\\)a-zA-Z0-9.+-:/]', 'e-6', string)\n",
    "                fs.extend([float(prevline)])\n",
    "                data.extend([[np.array(ts), np.array(vs), np.array(iis)]])\n",
    "                vcurves[float(prevline)] = pym.curve(ts, vs, name=r'$f=%.2e \\mathrm{Hz}$' % float(prevline))\n",
    "                icurves[float(prevline)] = pym.curve(ts, iis, name=r'$f=%.2e \\mathrm{Hz}$' % float(prevline))\n",
    "                prevline=string\n",
    "                ts = []\n",
    "                vs = []\n",
    "                iis = []\n",
    "all_fs = np.array(all_fs)\n",
    "all_ts = np.array(all_ts)\n",
    "all_vs = np.array(all_vs)\n",
    "min_t = np.min(all_ts)\n",
    "min_f = np.min(all_fs)\n",
    "min_v = np.min(all_vs)\n",
    "max_t = np.max(all_ts)\n",
    "max_f = np.max(all_fs)\n",
    "max_v = np.max(all_vs)\n",
    "del vcurves[0]\n",
    "del icurves[0]\n",
    "\n",
    "X, Y = np.meshgrid(sorted(vcurves.keys()), np.linspace(min_t, max_t, 100))\n",
    "Z = np.zeros_like(X)\n",
    "A = np.zeros_like(X)\n",
    "for i, key in enumerate(sorted(vcurves.keys())):\n",
    "    cur = vcurves[key]\n",
    "    icur = icurves[key]\n",
    "    for _x, j in zip(np.linspace(min_t, max_t, 100), range(100)):\n",
    "        Z[j, i] = cur.at(_x)\n",
    "        A[j, i] = icur.at(_x)"
   ]
  },
  {
   "cell_type": "code",
   "execution_count": 114,
   "metadata": {
    "collapsed": false,
    "deletable": true,
    "editable": true
   },
   "outputs": [
    {
     "data": {
      "text/html": [
       "\n",
       "                <div class='figure' style='align: center; margin-left: auto; margin-right: auto;'>\n",
       "                    <img style='margin: auto; max-width:800px; width:1250.000000px; height: auto;' src='volt3d_ind.svg?635249358' />\n",
       "                    <div style='margin: auto; text-align: center;' class='figurecaption'><b>Figure 23:</b> Voltage at power out terminal versus time versus matching inductance</div>\n",
       "                </div>\n",
       "            "
      ],
      "text/plain": [
       "<IPython.core.display.HTML object>"
      ]
     },
     "metadata": {},
     "output_type": "display_data"
    }
   ],
   "source": [
    "# recoil energy deposited in fluid vs. pneg vs. E\n",
    "plot = pyg3d()\n",
    "plot.surf(np.log10(np.array(sorted(vcurves.keys()))), 1.0e6 * np.linspace(min_t, max_t, 100), Z, cmap=puc.flame_cmap,\n",
    "          alpha=1.0, addto=plot)\n",
    "plot.zlabel(r'Voltage ($V$) [$\\unit{V}$]')\n",
    "plot.ylabel('Time ($t$) [$\\mathrm{\\mu s}]$')\n",
    "plot.xlabel('Inductance ($L$) [$\\mathrm{H}$]')\n",
    "plot.ax.xaxis.set_major_formatter(FormatStrFormatter('$10^{%.0f}$'))\n",
    "plot.export('volt3d_ind', ratio='silver')\n",
    "plot.show('Voltage at power out terminal versus time versus matching inductance')"
   ]
  },
  {
   "cell_type": "code",
   "execution_count": 115,
   "metadata": {
    "collapsed": false,
    "deletable": true,
    "editable": true
   },
   "outputs": [
    {
     "data": {
      "text/html": [
       "\n",
       "                <div class='figure' style='align: center; margin-left: auto; margin-right: auto;'>\n",
       "                    <img style='margin: auto; max-width:800px; width:1250.000000px; height: auto;' src='curr3d_ind.svg?1863219253' />\n",
       "                    <div style='margin: auto; text-align: center;' class='figurecaption'><b>Figure 24:</b> Current at power out terminal versus time versus matching inductance</div>\n",
       "                </div>\n",
       "            "
      ],
      "text/plain": [
       "<IPython.core.display.HTML object>"
      ]
     },
     "metadata": {},
     "output_type": "display_data"
    }
   ],
   "source": [
    "# recoil energy deposited in fluid vs. pneg vs. E\n",
    "plot = pyg3d()\n",
    "plot.surf(np.log10(np.array(sorted(vcurves.keys()))), 1.0e6 * np.linspace(min_t, max_t, 100), 1.0e6 * A,\n",
    "          cmap=puc.flow_cmap,\n",
    "          alpha=1.0, addto=plot)\n",
    "plot.zlabel(r'Current ($I$) [$\\unit{\\mu A}$]')\n",
    "plot.ylabel('Time ($t$) [$\\mathrm{\\mu s}]$')\n",
    "plot.xlabel('Inductance ($L$) [$\\mathrm{L}$]')\n",
    "plot.ax.xaxis.set_major_formatter(FormatStrFormatter('$10^{%.0f}$'))\n",
    "plot.export('curr3d_ind', ratio='silver')\n",
    "plot.show('Current at power out terminal versus time versus matching inductance')"
   ]
  },
  {
   "cell_type": "code",
   "execution_count": null,
   "metadata": {
    "collapsed": true,
    "deletable": true,
    "editable": true
   },
   "outputs": [],
   "source": []
  }
 ],
 "metadata": {
  "hide_input": false,
  "kernelspec": {
   "display_name": "Python 2",
   "language": "python",
   "name": "python2"
  },
  "language_info": {
   "codemirror_mode": {
    "name": "ipython",
    "version": 2
   },
   "file_extension": ".py",
   "mimetype": "text/x-python",
   "name": "python",
   "nbconvert_exporter": "python",
   "pygments_lexer": "ipython2",
   "version": "2.7.12"
  },
  "latex_envs": {
   "LaTeX_envs_menu_present": true,
   "autocomplete": true,
   "bibliofile": "biblio.bib",
   "cite_by": "apalike",
   "current_citInitial": 1,
   "eqLabelWithNumbers": true,
   "eqNumInitial": 1,
   "hotkeys": {
    "equation": "Ctrl-E",
    "itemize": "Ctrl-I"
   },
   "labels_anchors": false,
   "latex_user_defs": false,
   "report_style_numbering": false,
   "user_envs_cfg": false
  }
 },
 "nbformat": 4,
 "nbformat_minor": 2
}
