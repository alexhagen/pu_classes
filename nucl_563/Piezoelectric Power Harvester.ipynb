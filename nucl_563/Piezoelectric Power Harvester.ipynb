{
 "cells": [
  {
   "cell_type": "markdown",
   "metadata": {
    "deletable": true,
    "editable": true,
    "slideshow": {
     "slide_type": "slide"
    }
   },
   "source": [
    "# Piezoelectric Active Power Harvesting for General Sensor Use\n",
    "Alex Hagen\n",
    "\n",
    "NUCL 563 - Spring 2017\n",
    "\n",
    "April 25, 2017"
   ]
  },
  {
   "cell_type": "markdown",
   "metadata": {
    "deletable": true,
    "editable": true,
    "slideshow": {
     "slide_type": "slide"
    }
   },
   "source": [
    "## The Motivation\n",
    "\n",
    "- Sensors have become ever-present in today's society\n",
    "- Modern sensors, such as accelerometers are\n",
    "    - Power hungry\n",
    "    - Desired to be wireless\n",
    "    - Desired to be small\n",
    "    - Desired to be fast\n",
    "- Wireless, non-invasive sensors are the holy grail\n"
   ]
  },
  {
   "cell_type": "markdown",
   "metadata": {
    "deletable": true,
    "editable": true,
    "slideshow": {
     "slide_type": "subslide"
    }
   },
   "source": [
    "## The Inspiration\n",
    "\n",
    "### A low-cost application\n",
    "\n",
    "- Botteron published a $12.6\\mathrm{\\mu W}$ piezoelectric/solar sensor\n",
    "- Used \"power harvesting\" - no active component\n",
    "- $3000\\mathrm{mm^{2}}$ size is cumbersome for some applications\n",
    "\n",
    "### A medical application\n",
    "\n",
    "- Seo published neural \"dust\"\n",
    "- Medical, actively powered through a PZT power harvester\n",
    "- Small, $1\\mathrm{mm^{2}}$ size\n",
    "- Powered through application of ultrasonic waveform to the body"
   ]
  },
  {
   "cell_type": "markdown",
   "metadata": {
    "deletable": true,
    "editable": true,
    "slideshow": {
     "slide_type": "subslide"
    }
   },
   "source": [
    "## The Goal - A Middle Ground\n",
    "\n",
    "- Actively powered\n",
    "- Small ($\\ll 3000 \\mathrm{mm^{2}}$)\n",
    "- Higher power ($> 12.6\\mathrm{\\mu W}$, goal is $466.2\\mathrm{\\mu W}$)\n",
    "- Higher Voltage ($3.3\\mathrm{V}$ or $5\\mathrm{V}$ for faster microprocessor speed)"
   ]
  },
  {
   "cell_type": "markdown",
   "metadata": {
    "deletable": true,
    "editable": true,
    "slideshow": {
     "slide_type": "slide"
    }
   },
   "source": [
    "## The Design\n",
    "\n",
    "### PCB Choice\n",
    "\n",
    "- Following Botteron, and Illich, using PZT-5A because of its common availability\n",
    "- This is often called Navy PZT II\n",
    "- Disk shape chosen"
   ]
  },
  {
   "cell_type": "markdown",
   "metadata": {
    "deletable": true,
    "editable": true,
    "slideshow": {
     "slide_type": "subslide"
    }
   },
   "source": [
    "## The Design\n",
    "### PCB Size Calculation\n",
    "\n",
    "- Frequency of resonance chosen at $500\\mathrm{kHz}$ for availability of amplifiers\n",
    "\n",
    "<img src=\"pzt_diagram.png\" width=200px />\n",
    "\n",
    "- Planar Mode ($d>5t$)\n",
    "$$f_{res}=\\frac{N_r}{d} \\therefore d=\\frac{N_r}{f_{res}}$$\n",
    "$$d=2.9\\mathrm{mm}$$\n",
    "$$t<0.58\\mathrm{mm}$$"
   ]
  },
  {
   "cell_type": "markdown",
   "metadata": {
    "deletable": true,
    "editable": true,
    "slideshow": {
     "slide_type": "subslide"
    }
   },
   "source": [
    "## The Design\n",
    "\n",
    "### Resonant Circuit Choice\n",
    "\n",
    "<img src=rlc.png width=600px />\n",
    "\n",
    "$$f_{res} = \\frac{1}{2\\pi \\sqrt{LC}}$$"
   ]
  },
  {
   "cell_type": "markdown",
   "metadata": {
    "deletable": true,
    "editable": true,
    "slideshow": {
     "slide_type": "subslide"
    }
   },
   "source": [
    "## The Design\n",
    "\n",
    "### Resonant Circuit Choice\n",
    "\n",
    "- The pzt has an internal capacitance of\n",
    "\n",
    "$$C=\\frac{\\pi}{4}k_{33}\\varepsilon_{0}\\frac{d^{2}}{t}=0.1\\mathrm{nF}$$\n",
    "\n",
    "- Ballast the pzt with a larger capacitor to decrease the size required in the inductor (space saving)\n",
    "- Ballast capacitor of $10\\mathrm{\\mu F}$, gives inductor size of $10\\mathrm{nH}$"
   ]
  },
  {
   "cell_type": "markdown",
   "metadata": {
    "deletable": true,
    "editable": true,
    "slideshow": {
     "slide_type": "subslide"
    }
   },
   "source": [
    "## The Design\n",
    "\n",
    "### Regulator Choice\n",
    "\n",
    "- Tried two ultra-low power boost converters - (TI's BQ25504 as per Botteron, LT's LTC3108), low success, details to follow\n",
    "- Chose a voltage regulator (need to step-**down** the voltage from PZT)\n",
    "- High speed required to match $500\\mathrm{kHz}$\n",
    "- Output of $3.6\\mathrm{V}$ chosen to match a single cell LiPo battery\n",
    "- Load on back end of $100\\mathrm{k\\Omega}$ matches common microprocessors"
   ]
  },
  {
   "cell_type": "markdown",
   "metadata": {
    "deletable": true,
    "editable": true,
    "slideshow": {
     "slide_type": "subslide"
    }
   },
   "source": [
    "## The Design\n",
    "\n",
    "<img src=receiver_design.png width=600px />"
   ]
  },
  {
   "cell_type": "markdown",
   "metadata": {
    "deletable": true,
    "editable": true,
    "slideshow": {
     "slide_type": "slide"
    }
   },
   "source": [
    "## The Simulation\n",
    "\n",
    "- Complex components to design\n",
    "- Acoustic transport to PZT face\n",
    "- Constitutive equation solution inside PZT Material (including elastic stress/strain)\n",
    "- Electrical solution in frequency space (Kirchoff's Laws, complicated by the IC)\n",
    "- Tools possible - COMSOL (FEM solver), SPICE (circuit solver)"
   ]
  },
  {
   "cell_type": "markdown",
   "metadata": {
    "deletable": true,
    "editable": true,
    "slideshow": {
     "slide_type": "subslide"
    }
   },
   "source": [
    "## The Simulation\n",
    "\n",
    "### COMSOL Multiphysics Simulation\n",
    "\n",
    "<img src=pzt_comsol_mesh.png width=600px />"
   ]
  },
  {
   "cell_type": "markdown",
   "metadata": {
    "deletable": true,
    "editable": true,
    "slideshow": {
     "slide_type": "subslide"
    }
   },
   "source": [
    "## The Simulation\n",
    "\n",
    "### COMSOL Boundary condition\n",
    "\n",
    "- Particle Velocity\n",
    "\n",
    "$$v=1.0\\times 10^{-6}\\mathrm{\\frac{m}{s}} \\equiv 20\\mathrm{dB}$$\n",
    "\n",
    "- Conversion to acceleration\n",
    "\n",
    "$$a = \\frac{d}{dt}v=\\frac{d}{dt} \\left[A \\sin \\left(2 \\pi f t\\right)\\right]$$\n",
    "$$a = 2 \\pi f A$$"
   ]
  },
  {
   "cell_type": "markdown",
   "metadata": {
    "deletable": true,
    "editable": true,
    "slideshow": {
     "slide_type": "subslide"
    }
   },
   "source": [
    "## The Simulation\n",
    "\n",
    "### COMSOL Voltage Results"
   ]
  },
  {
   "cell_type": "code",
   "execution_count": 1,
   "metadata": {
    "collapsed": false,
    "deletable": true,
    "editable": true,
    "slideshow": {
     "slide_type": "-"
    }
   },
   "outputs": [
    {
     "data": {
      "text/html": [
       "\n",
       "                <div class='figure' style='align: center; margin-left: auto; margin-right: auto;'>\n",
       "                    <img style='margin: auto; max-width:800px; width:2500.000000px; height: auto;' src='intvolt.svg?295037576' />\n",
       "                    <div style='margin: auto; text-align: center;' class='figurecaption'><b>Figure 1:</b> </div>\n",
       "                </div>\n",
       "            "
      ],
      "text/plain": [
       "<IPython.core.display.HTML object>"
      ]
     },
     "metadata": {},
     "output_type": "display_data"
    }
   ],
   "source": [
    "# plot voltage result\n",
    "from pyg.twod import pyg2d\n",
    "from pym import func as pym\n",
    "from pyg.colors import pu as puc\n",
    "import numpy as np\n",
    "\n",
    "(freq, vel, intvolt, intcurr, maxvolt) = np.loadtxt('pzt_power_harvester.csv', unpack=True, skiprows=5, delimiter=',')\n",
    "\n",
    "intvoltc = pym.curve(freq, 1.0E6 * intvolt, name='$\\int V dx$')\n",
    "plot = intvoltc.plot(linestyle='-', linecolor=puc.pu_colors['newgold'])\n",
    "plot.markers_off()\n",
    "plot.lines_on()\n",
    "plot.xlabel('Frequency ($f$) [$\\mathrm{Hz}]$')\n",
    "plot.ylabel('Integrated Voltage ($\\int V dx$) [$\\mathrm{mV \\cdot mm}$]')\n",
    "plot.export('intvolt', sizes=['4'], ratio='silver')\n",
    "plot.show()"
   ]
  },
  {
   "cell_type": "markdown",
   "metadata": {
    "deletable": true,
    "editable": true,
    "slideshow": {
     "slide_type": "subslide"
    }
   },
   "source": [
    "## The Simulation\n",
    "\n",
    "### COMSOL Current Density Results"
   ]
  },
  {
   "cell_type": "code",
   "execution_count": 2,
   "metadata": {
    "collapsed": false,
    "deletable": true,
    "editable": true,
    "slideshow": {
     "slide_type": "-"
    }
   },
   "outputs": [
    {
     "data": {
      "text/html": [
       "\n",
       "                <div class='figure' style='align: center; margin-left: auto; margin-right: auto;'>\n",
       "                    <img style='margin: auto; max-width:800px; width:2500.000000px; height: auto;' src='intcurr.svg?1654021308' />\n",
       "                    <div style='margin: auto; text-align: center;' class='figurecaption'><b>Figure 2:</b> </div>\n",
       "                </div>\n",
       "            "
      ],
      "text/plain": [
       "<IPython.core.display.HTML object>"
      ]
     },
     "metadata": {},
     "output_type": "display_data"
    }
   ],
   "source": [
    "# plot current result\n",
    "intcurrc = pym.curve(freq, 1.0E6 * intcurr, name='$\\int I dx$')\n",
    "plot = intcurrc.plot(linestyle='-', linecolor=puc.pu_colors['teal'])\n",
    "plot.markers_off()\n",
    "plot.lines_on()\n",
    "plot.xlabel(r'Frequency ($f$) [$\\mathrm{Hz}]$')\n",
    "plot.ylabel(r'Integrated Current Density ($\\int I dx$) [$\\mathrm{\\frac{mA}{mm}}$]')\n",
    "plot.export('intcurr', sizes=['4'], ratio='silver')\n",
    "plot.show()"
   ]
  },
  {
   "cell_type": "code",
   "execution_count": 3,
   "metadata": {
    "collapsed": false,
    "deletable": true,
    "editable": true,
    "slideshow": {
     "slide_type": "skip"
    }
   },
   "outputs": [
    {
     "data": {
      "text/html": [
       "\n",
       "                <div class='figure' style='align: center; margin-left: auto; margin-right: auto;'>\n",
       "                    <img style='margin: auto; max-width:800px; width:2500.000000px; height: auto;' src='intpow.svg?1151988121' />\n",
       "                    <div style='margin: auto; text-align: center;' class='figurecaption'><b>Figure 3:</b> </div>\n",
       "                </div>\n",
       "            "
      ],
      "text/plain": [
       "<IPython.core.display.HTML object>"
      ]
     },
     "metadata": {},
     "output_type": "display_data"
    }
   ],
   "source": [
    "# plot power result\n",
    "intpow = intcurrc * intvoltc\n",
    "plot = intpow.plot(linestyle='-', linecolor=puc.pu_colors['purple'])\n",
    "plot.markers_off()\n",
    "plot.lines_on()\n",
    "plot.xlim(0, 1e6)\n",
    "plot.ylim(0, 300)\n",
    "plot.xlabel(r'Frequency ($f$) [$\\mathrm{Hz}]$')\n",
    "plot.ylabel(r'Integrated Power ($\\int P dx$) [$\\mathrm{mW}$]')\n",
    "plot.export('intpow', sizes=['4'], ratio='silver')\n",
    "plot.show()"
   ]
  },
  {
   "cell_type": "markdown",
   "metadata": {
    "deletable": true,
    "editable": true,
    "slideshow": {
     "slide_type": "subslide"
    }
   },
   "source": [
    "## The Simulation\n",
    "\n",
    "### LTSpice Model\n",
    "\n",
    "- Illich created\n",
    "    - a PZT spice component\n",
    "    - a finite acoustic media component\n",
    "    - an infinite acoustic media component\n",
    "- Illich assumed a current $\\Leftrightarrow$ particle velocity analogy from Schwarz\n",
    "- Allows for easy modeling of circuit using pzt component\n"
   ]
  },
  {
   "cell_type": "markdown",
   "metadata": {
    "deletable": true,
    "editable": true,
    "slideshow": {
     "slide_type": "subslide"
    }
   },
   "source": [
    "## The Simulation\n",
    "\n",
    "### Failed LTSpice Models"
   ]
  },
  {
   "cell_type": "markdown",
   "metadata": {
    "deletable": true,
    "editable": true,
    "slideshow": {
     "slide_type": "-"
    }
   },
   "source": [
    "<img src=power_harvester_with_lt3020.png width=600px />\n",
    "\n",
    "- Maximum voltage of $\\mathrm{\\mu V}$\n",
    "- Maximum current of $\\mathrm{n A}$"
   ]
  },
  {
   "cell_type": "markdown",
   "metadata": {
    "deletable": true,
    "editable": true,
    "slideshow": {
     "slide_type": "subslide"
    }
   },
   "source": [
    "## The Simulation\n",
    "\n",
    "### LTSpice Model\n",
    "\n",
    "![image of LT spice model](power_harvester_with_lt1585.svg)"
   ]
  },
  {
   "cell_type": "markdown",
   "metadata": {
    "deletable": true,
    "editable": true,
    "slideshow": {
     "slide_type": "subslide"
    }
   },
   "source": [
    "## The Simulation\n",
    "\n",
    "### LTSpice Model Results"
   ]
  },
  {
   "cell_type": "code",
   "execution_count": 4,
   "metadata": {
    "collapsed": false,
    "deletable": true,
    "editable": true,
    "slideshow": {
     "slide_type": "-"
    }
   },
   "outputs": [
    {
     "data": {
      "text/html": [
       "\n",
       "                <div class='figure' style='align: center; margin-left: auto; margin-right: auto;'>\n",
       "                    <img style='margin: auto; max-width:800px; width:2500.000000px; height: auto;' src='volt.svg?1268700111' />\n",
       "                    <div style='margin: auto; text-align: center;' class='figurecaption'><b>Figure 4:</b> </div>\n",
       "                </div>\n",
       "            "
      ],
      "text/plain": [
       "<IPython.core.display.HTML object>"
      ]
     },
     "metadata": {},
     "output_type": "display_data"
    }
   ],
   "source": [
    "# Plot current and voltage from LTSpice\n",
    "(t, vpwrout, vpztin, ipwrout, ipztin) = np.loadtxt('power_harvester_with_lt1585.txt', unpack=True, skiprows=1)\n",
    "\n",
    "vpwroutc = pym.curve(1.0E6 * t, vpwrout, name='V$')\n",
    "plot = vpwroutc.plot(linestyle='-', linecolor=puc.pu_colors['newgold'])\n",
    "plot.markers_off()\n",
    "plot.lines_on()\n",
    "plot.xlabel('Time ($t$) [$\\mathrm{\\mu s}]$')\n",
    "plot.ylabel('Voltage ($V$) [$\\mathrm{V}$]')\n",
    "plot.xlim(0, 150)\n",
    "plot.ylim(0, 4.5)\n",
    "plot.export('volt', sizes=['4'], ratio='silver')\n",
    "plot.show()"
   ]
  },
  {
   "cell_type": "markdown",
   "metadata": {
    "deletable": true,
    "editable": true,
    "slideshow": {
     "slide_type": "subslide"
    }
   },
   "source": [
    "## The Simulation\n",
    "\n",
    "### LTSpice Model Results"
   ]
  },
  {
   "cell_type": "code",
   "execution_count": 5,
   "metadata": {
    "collapsed": false,
    "deletable": true,
    "editable": true,
    "slideshow": {
     "slide_type": "-"
    }
   },
   "outputs": [
    {
     "data": {
      "text/html": [
       "\n",
       "                <div class='figure' style='align: center; margin-left: auto; margin-right: auto;'>\n",
       "                    <img style='margin: auto; max-width:800px; width:2500.000000px; height: auto;' src='curr.svg?1194843786' />\n",
       "                    <div style='margin: auto; text-align: center;' class='figurecaption'><b>Figure 5:</b> </div>\n",
       "                </div>\n",
       "            "
      ],
      "text/plain": [
       "<IPython.core.display.HTML object>"
      ]
     },
     "metadata": {},
     "output_type": "display_data"
    }
   ],
   "source": [
    "# Plot current and voltage from LTSpice\n",
    "(t, vpwrout, vpztin, ipwrout, ipztin) = np.loadtxt('power_harvester_with_lt1585.txt', unpack=True, skiprows=1)\n",
    "\n",
    "ipwroutc = pym.curve(1.0E6 * t, 1.0E6 * ipwrout, name='$I$')\n",
    "plot = ipwroutc.plot(linestyle='-', linecolor=puc.pu_colors['teal'])\n",
    "plot.markers_off()\n",
    "plot.lines_on()\n",
    "plot.xlabel('Time ($t$) [$\\mathrm{\\mu s}]$')\n",
    "plot.ylabel('Current ($I$) [$\\mathrm{\\mu A}$]')\n",
    "plot.xlim(0, 150)\n",
    "plot.ylim(0, 50)\n",
    "plot.export('curr', sizes=['4'], ratio='silver')\n",
    "plot.show()"
   ]
  },
  {
   "cell_type": "markdown",
   "metadata": {
    "deletable": true,
    "editable": true,
    "slideshow": {
     "slide_type": "slide"
    }
   },
   "source": [
    "## The Realization\n",
    "\n",
    "- Drop in replacement for single cell LiPo battery ($>3.7\\mathrm{V}$)\n",
    "- After start up period of $150\\mathrm{\\mu s}$, reaches steady state current of $42\\mathrm{\\mu A}$\n",
    "- Provides power of $176.4\\mathrm{\\mu W}$\n",
    "- Size of $6.6\\mathrm{mm^{2}}$"
   ]
  },
  {
   "cell_type": "markdown",
   "metadata": {
    "deletable": true,
    "editable": true,
    "slideshow": {
     "slide_type": "slide"
    }
   },
   "source": [
    "## The Future\n",
    "\n",
    "- Optimization studies into LC circuit values\n",
    "- Better PZT material possibilities\n",
    "- More efficient step-down conversion\n",
    "- Higher current from higher frequencies ($5\\mathrm{MHz}$)\n",
    "- Design of PCB for size estimates"
   ]
  },
  {
   "cell_type": "code",
   "execution_count": null,
   "metadata": {
    "collapsed": true,
    "deletable": true,
    "editable": true
   },
   "outputs": [],
   "source": []
  }
 ],
 "metadata": {
  "celltoolbar": "Slideshow",
  "hide_input": false,
  "kernelspec": {
   "display_name": "Python 2",
   "language": "python",
   "name": "python2"
  },
  "language_info": {
   "codemirror_mode": {
    "name": "ipython",
    "version": 2
   },
   "file_extension": ".py",
   "mimetype": "text/x-python",
   "name": "python",
   "nbconvert_exporter": "python",
   "pygments_lexer": "ipython2",
   "version": "2.7.12"
  },
  "latex_envs": {
   "LaTeX_envs_menu_present": true,
   "autocomplete": true,
   "bibliofile": "biblio.bib",
   "cite_by": "apalike",
   "current_citInitial": 1,
   "eqLabelWithNumbers": true,
   "eqNumInitial": 1,
   "hotkeys": {
    "equation": "Ctrl-E",
    "itemize": "Ctrl-I"
   },
   "labels_anchors": false,
   "latex_user_defs": false,
   "report_style_numbering": false,
   "user_envs_cfg": false
  }
 },
 "nbformat": 4,
 "nbformat_minor": 2
}
