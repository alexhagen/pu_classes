{
 "cells": [
  {
   "cell_type": "code",
   "execution_count": 2,
   "metadata": {
    "collapsed": false,
    "deletable": true,
    "editable": true
   },
   "outputs": [
    {
     "data": {
      "text/html": [
       "\n",
       "                <div class='figure' style='align: center; margin-left: auto; margin-right: auto;'>\n",
       "                    <img style='margin: auto; max-width:800px; width:1250.000000px; height: auto;' src='hmwkangrist35web.svg?336826805' />\n",
       "                    <div style='margin: auto; text-align: center;' class='figurecaption'><b>Figure 2:</b> Fermi function versus high assumption</div>\n",
       "                </div>\n",
       "            "
      ],
      "text/plain": [
       "<IPython.core.display.HTML object>"
      ]
     },
     "metadata": {},
     "output_type": "display_data"
    }
   ],
   "source": [
    "from pym import func as pym\n",
    "from pyg.twod import pyg2d\n",
    "import numpy as np\n",
    "\n",
    "pyg2d.context = 'tufte'\n",
    "\n",
    "k = 8.6e-5\n",
    "T = 298.0\n",
    "epmepf = np.linspace(0, 5.0 * k * T)\n",
    "assn = np.exp(-epmepf / (k*T))\n",
    "f = 1.0 / (np.exp(epmepf / (k*T)) + 1.0)\n",
    "\n",
    "assnc = pym.curve(epmepf, assn, name='assumption')\n",
    "fc = pym.curve(epmepf, f, name='fermi')\n",
    "\n",
    "plot = assnc.plot(linestyle='-')\n",
    "plot = fc.plot(linestyle='--', addto=plot)\n",
    "plot.lines_on()\n",
    "plot.markers_off()\n",
    "plot.add_data_pointer(2.0 * k * T, curve=fc, string=r'$2\\cdot k T$', place=(0.02, 0.8))\n",
    "plot.xlabel(r'Energy comparison argument ($\\epsilon - \\epsilon_{f}$)')\n",
    "plot.ylabel(r'Function Value ($f$)')\n",
    "plot.export('hmwkangrist35', sizes=['2'], formats=['websvg', 'pgf'], ratio='silver')\n",
    "plot.show(caption='Fermi function versus high assumption')"
   ]
  },
  {
   "cell_type": "code",
   "execution_count": null,
   "metadata": {
    "collapsed": true,
    "deletable": true,
    "editable": true
   },
   "outputs": [],
   "source": []
  }
 ],
 "metadata": {
  "hide_input": false,
  "kernelspec": {
   "display_name": "Python 2",
   "language": "python",
   "name": "python2"
  },
  "language_info": {
   "codemirror_mode": {
    "name": "ipython",
    "version": 2
   },
   "file_extension": ".py",
   "mimetype": "text/x-python",
   "name": "python",
   "nbconvert_exporter": "python",
   "pygments_lexer": "ipython2",
   "version": "2.7.12"
  },
  "latex_envs": {
   "LaTeX_envs_menu_present": true,
   "autocomplete": true,
   "bibliofile": "bibs/dissertation.bib",
   "cite_by": "apalike",
   "current_citInitial": 1,
   "eqLabelWithNumbers": true,
   "eqNumInitial": 1,
   "hotkeys": {
    "equation": "Ctrl-E",
    "itemize": "Ctrl-I"
   },
   "labels_anchors": false,
   "latex_user_defs": false,
   "report_style_numbering": false,
   "user_envs_cfg": false
  }
 },
 "nbformat": 4,
 "nbformat_minor": 2
}
